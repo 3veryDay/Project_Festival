{
  "nbformat": 4,
  "nbformat_minor": 0,
  "metadata": {
    "colab": {
      "provenance": [],
      "machine_shape": "hm",
      "gpuType": "A100",
      "authorship_tag": "ABX9TyOjbrwf3MwvoCbdugjoQfL8",
      "include_colab_link": true
    },
    "kernelspec": {
      "name": "python3",
      "display_name": "Python 3"
    },
    "language_info": {
      "name": "python"
    },
    "accelerator": "GPU"
  },
  "cells": [
    {
      "cell_type": "markdown",
      "metadata": {
        "id": "view-in-github",
        "colab_type": "text"
      },
      "source": [
        "<a href=\"https://colab.research.google.com/github/3veryDay/Project_Festival/blob/main/CAFE.ipynb\" target=\"_parent\"><img src=\"https://colab.research.google.com/assets/colab-badge.svg\" alt=\"Open In Colab\"/></a>"
      ]
    },
    {
      "cell_type": "code",
      "source": [
        "from google.colab import drive\n",
        "drive.mount('/content/drive')"
      ],
      "metadata": {
        "colab": {
          "base_uri": "https://localhost:8080/"
        },
        "id": "oRH_a3_JzsXL",
        "outputId": "c4cc38c6-4e6f-49b8-f7aa-2f0e3d0c804e"
      },
      "execution_count": null,
      "outputs": [
        {
          "output_type": "stream",
          "name": "stdout",
          "text": [
            "Mounted at /content/drive\n"
          ]
        }
      ]
    },
    {
      "cell_type": "code",
      "execution_count": null,
      "metadata": {
        "id": "P_Xse-Y_sUtP",
        "colab": {
          "base_uri": "https://localhost:8080/"
        },
        "outputId": "41aa5546-df48-4391-fa76-5a489e91b48b",
        "collapsed": true
      },
      "outputs": [
        {
          "output_type": "stream",
          "name": "stdout",
          "text": [
            "Requirement already satisfied: requests in /usr/local/lib/python3.11/dist-packages (2.32.3)\n",
            "Collecting playwright\n",
            "  Downloading playwright-1.51.0-py3-none-manylinux1_x86_64.whl.metadata (3.5 kB)\n",
            "Requirement already satisfied: charset-normalizer<4,>=2 in /usr/local/lib/python3.11/dist-packages (from requests) (3.4.1)\n",
            "Requirement already satisfied: idna<4,>=2.5 in /usr/local/lib/python3.11/dist-packages (from requests) (3.10)\n",
            "Requirement already satisfied: urllib3<3,>=1.21.1 in /usr/local/lib/python3.11/dist-packages (from requests) (2.3.0)\n",
            "Requirement already satisfied: certifi>=2017.4.17 in /usr/local/lib/python3.11/dist-packages (from requests) (2025.1.31)\n",
            "Collecting pyee<13,>=12 (from playwright)\n",
            "  Downloading pyee-12.1.1-py3-none-any.whl.metadata (2.9 kB)\n",
            "Requirement already satisfied: greenlet<4.0.0,>=3.1.1 in /usr/local/lib/python3.11/dist-packages (from playwright) (3.1.1)\n",
            "Requirement already satisfied: typing-extensions in /usr/local/lib/python3.11/dist-packages (from pyee<13,>=12->playwright) (4.13.1)\n",
            "Downloading playwright-1.51.0-py3-none-manylinux1_x86_64.whl (45.2 MB)\n",
            "\u001b[2K   \u001b[90m━━━━━━━━━━━━━━━━━━━━━━━━━━━━━━━━━━━━━━━━\u001b[0m \u001b[32m45.2/45.2 MB\u001b[0m \u001b[31m29.8 MB/s\u001b[0m eta \u001b[36m0:00:00\u001b[0m\n",
            "\u001b[?25hDownloading pyee-12.1.1-py3-none-any.whl (15 kB)\n",
            "Installing collected packages: pyee, playwright\n",
            "Successfully installed playwright-1.51.0 pyee-12.1.1\n",
            "Downloading Chromium 134.0.6998.35 (playwright build v1161)\u001b[2m from https://cdn.playwright.dev/dbazure/download/playwright/builds/chromium/1161/chromium-linux.zip\u001b[22m\n",
            "\u001b[1G164.9 MiB [] 0% 0.0s\u001b[0K\u001b[1G164.9 MiB [] 0% 52.7s\u001b[0K\u001b[1G164.9 MiB [] 0% 21.9s\u001b[0K\u001b[1G164.9 MiB [] 0% 12.9s\u001b[0K\u001b[1G164.9 MiB [] 1% 6.0s\u001b[0K\u001b[1G164.9 MiB [] 2% 3.7s\u001b[0K\u001b[1G164.9 MiB [] 3% 2.7s\u001b[0K\u001b[1G164.9 MiB [] 5% 2.1s\u001b[0K\u001b[1G164.9 MiB [] 6% 1.9s\u001b[0K\u001b[1G164.9 MiB [] 7% 1.7s\u001b[0K\u001b[1G164.9 MiB [] 9% 1.5s\u001b[0K\u001b[1G164.9 MiB [] 11% 1.4s\u001b[0K\u001b[1G164.9 MiB [] 13% 1.3s\u001b[0K\u001b[1G164.9 MiB [] 15% 1.2s\u001b[0K\u001b[1G164.9 MiB [] 17% 1.1s\u001b[0K\u001b[1G164.9 MiB [] 20% 1.0s\u001b[0K\u001b[1G164.9 MiB [] 22% 0.9s\u001b[0K\u001b[1G164.9 MiB [] 25% 0.8s\u001b[0K\u001b[1G164.9 MiB [] 27% 0.8s\u001b[0K\u001b[1G164.9 MiB [] 29% 0.7s\u001b[0K\u001b[1G164.9 MiB [] 32% 0.7s\u001b[0K\u001b[1G164.9 MiB [] 35% 0.6s\u001b[0K\u001b[1G164.9 MiB [] 38% 0.6s\u001b[0K\u001b[1G164.9 MiB [] 41% 0.5s\u001b[0K\u001b[1G164.9 MiB [] 44% 0.5s\u001b[0K\u001b[1G164.9 MiB [] 47% 0.4s\u001b[0K\u001b[1G164.9 MiB [] 50% 0.4s\u001b[0K\u001b[1G164.9 MiB [] 52% 0.4s\u001b[0K\u001b[1G164.9 MiB [] 54% 0.4s\u001b[0K\u001b[1G164.9 MiB [] 57% 0.3s\u001b[0K\u001b[1G164.9 MiB [] 60% 0.3s\u001b[0K\u001b[1G164.9 MiB [] 62% 0.3s\u001b[0K\u001b[1G164.9 MiB [] 65% 0.3s\u001b[0K\u001b[1G164.9 MiB [] 67% 0.3s\u001b[0K\u001b[1G164.9 MiB [] 70% 0.2s\u001b[0K\u001b[1G164.9 MiB [] 72% 0.2s\u001b[0K\u001b[1G164.9 MiB [] 75% 0.2s\u001b[0K\u001b[1G164.9 MiB [] 77% 0.2s\u001b[0K\u001b[1G164.9 MiB [] 80% 0.1s\u001b[0K\u001b[1G164.9 MiB [] 83% 0.1s\u001b[0K\u001b[1G164.9 MiB [] 85% 0.1s\u001b[0K\u001b[1G164.9 MiB [] 88% 0.1s\u001b[0K\u001b[1G164.9 MiB [] 90% 0.1s\u001b[0K\u001b[1G164.9 MiB [] 93% 0.0s\u001b[0K\u001b[1G164.9 MiB [] 97% 0.0s\u001b[0K\u001b[1G164.9 MiB [] 100% 0.0s\u001b[0K\n",
            "Chromium 134.0.6998.35 (playwright build v1161) downloaded to /root/.cache/ms-playwright/chromium-1161\n",
            "Downloading Chromium Headless Shell 134.0.6998.35 (playwright build v1161)\u001b[2m from https://cdn.playwright.dev/dbazure/download/playwright/builds/chromium/1161/chromium-headless-shell-linux.zip\u001b[22m\n",
            "\u001b[1G100.9 MiB [] 0% 0.0s\u001b[0K\u001b[1G100.9 MiB [] 0% 29.0s\u001b[0K\u001b[1G100.9 MiB [] 0% 12.9s\u001b[0K\u001b[1G100.9 MiB [] 0% 8.1s\u001b[0K\u001b[1G100.9 MiB [] 1% 3.4s\u001b[0K\u001b[1G100.9 MiB [] 3% 2.0s\u001b[0K\u001b[1G100.9 MiB [] 6% 1.5s\u001b[0K\u001b[1G100.9 MiB [] 8% 1.2s\u001b[0K\u001b[1G100.9 MiB [] 10% 1.1s\u001b[0K\u001b[1G100.9 MiB [] 13% 1.0s\u001b[0K\u001b[1G100.9 MiB [] 15% 0.9s\u001b[0K\u001b[1G100.9 MiB [] 18% 0.8s\u001b[0K\u001b[1G100.9 MiB [] 20% 0.7s\u001b[0K\u001b[1G100.9 MiB [] 23% 0.7s\u001b[0K\u001b[1G100.9 MiB [] 26% 0.6s\u001b[0K\u001b[1G100.9 MiB [] 29% 0.6s\u001b[0K\u001b[1G100.9 MiB [] 32% 0.5s\u001b[0K\u001b[1G100.9 MiB [] 36% 0.5s\u001b[0K\u001b[1G100.9 MiB [] 39% 0.4s\u001b[0K\u001b[1G100.9 MiB [] 43% 0.4s\u001b[0K\u001b[1G100.9 MiB [] 46% 0.4s\u001b[0K\u001b[1G100.9 MiB [] 51% 0.3s\u001b[0K\u001b[1G100.9 MiB [] 55% 0.3s\u001b[0K\u001b[1G100.9 MiB [] 59% 0.3s\u001b[0K\u001b[1G100.9 MiB [] 63% 0.2s\u001b[0K\u001b[1G100.9 MiB [] 67% 0.2s\u001b[0K\u001b[1G100.9 MiB [] 71% 0.2s\u001b[0K\u001b[1G100.9 MiB [] 76% 0.1s\u001b[0K\u001b[1G100.9 MiB [] 80% 0.1s\u001b[0K\u001b[1G100.9 MiB [] 85% 0.1s\u001b[0K\u001b[1G100.9 MiB [] 90% 0.0s\u001b[0K\u001b[1G100.9 MiB [] 95% 0.0s\u001b[0K\u001b[1G100.9 MiB [] 100% 0.0s\u001b[0K\n",
            "Chromium Headless Shell 134.0.6998.35 (playwright build v1161) downloaded to /root/.cache/ms-playwright/chromium_headless_shell-1161\n",
            "Downloading Firefox 135.0 (playwright build v1475)\u001b[2m from https://cdn.playwright.dev/dbazure/download/playwright/builds/firefox/1475/firefox-ubuntu-22.04.zip\u001b[22m\n",
            "\u001b[1G90.6 MiB [] 0% 0.0s\u001b[0K\u001b[1G90.6 MiB [] 0% 26.3s\u001b[0K\u001b[1G90.6 MiB [] 0% 12.5s\u001b[0K\u001b[1G90.6 MiB [] 0% 7.6s\u001b[0K\u001b[1G90.6 MiB [] 2% 3.2s\u001b[0K\u001b[1G90.6 MiB [] 4% 1.8s\u001b[0K\u001b[1G90.6 MiB [] 7% 1.3s\u001b[0K\u001b[1G90.6 MiB [] 10% 1.0s\u001b[0K\u001b[1G90.6 MiB [] 12% 0.9s\u001b[0K\u001b[1G90.6 MiB [] 16% 0.8s\u001b[0K\u001b[1G90.6 MiB [] 19% 0.7s\u001b[0K\u001b[1G90.6 MiB [] 23% 0.6s\u001b[0K\u001b[1G90.6 MiB [] 27% 0.5s\u001b[0K\u001b[1G90.6 MiB [] 31% 0.5s\u001b[0K\u001b[1G90.6 MiB [] 36% 0.4s\u001b[0K\u001b[1G90.6 MiB [] 41% 0.3s\u001b[0K\u001b[1G90.6 MiB [] 45% 0.3s\u001b[0K\u001b[1G90.6 MiB [] 50% 0.3s\u001b[0K\u001b[1G90.6 MiB [] 54% 0.2s\u001b[0K\u001b[1G90.6 MiB [] 58% 0.2s\u001b[0K\u001b[1G90.6 MiB [] 64% 0.2s\u001b[0K\u001b[1G90.6 MiB [] 68% 0.2s\u001b[0K\u001b[1G90.6 MiB [] 72% 0.1s\u001b[0K\u001b[1G90.6 MiB [] 76% 0.1s\u001b[0K\u001b[1G90.6 MiB [] 81% 0.1s\u001b[0K\u001b[1G90.6 MiB [] 85% 0.1s\u001b[0K\u001b[1G90.6 MiB [] 89% 0.0s\u001b[0K\u001b[1G90.6 MiB [] 94% 0.0s\u001b[0K\u001b[1G90.6 MiB [] 99% 0.0s\u001b[0K\u001b[1G90.6 MiB [] 100% 0.0s\u001b[0K\n",
            "Firefox 135.0 (playwright build v1475) downloaded to /root/.cache/ms-playwright/firefox-1475\n",
            "Downloading Webkit 18.4 (playwright build v2140)\u001b[2m from https://cdn.playwright.dev/dbazure/download/playwright/builds/webkit/2140/webkit-ubuntu-22.04.zip\u001b[22m\n",
            "\u001b[1G92.3 MiB [] 0% 0.0s\u001b[0K\u001b[1G92.3 MiB [] 0% 27.3s\u001b[0K\u001b[1G92.3 MiB [] 0% 14.1s\u001b[0K\u001b[1G92.3 MiB [] 0% 6.5s\u001b[0K\u001b[1G92.3 MiB [] 2% 3.0s\u001b[0K\u001b[1G92.3 MiB [] 4% 1.8s\u001b[0K\u001b[1G92.3 MiB [] 7% 1.2s\u001b[0K\u001b[1G92.3 MiB [] 11% 1.0s\u001b[0K\u001b[1G92.3 MiB [] 13% 0.9s\u001b[0K\u001b[1G92.3 MiB [] 16% 0.7s\u001b[0K\u001b[1G92.3 MiB [] 19% 0.7s\u001b[0K\u001b[1G92.3 MiB [] 23% 0.6s\u001b[0K\u001b[1G92.3 MiB [] 27% 0.5s\u001b[0K\u001b[1G92.3 MiB [] 30% 0.5s\u001b[0K\u001b[1G92.3 MiB [] 35% 0.4s\u001b[0K\u001b[1G92.3 MiB [] 39% 0.4s\u001b[0K\u001b[1G92.3 MiB [] 42% 0.4s\u001b[0K\u001b[1G92.3 MiB [] 47% 0.3s\u001b[0K\u001b[1G92.3 MiB [] 51% 0.3s\u001b[0K\u001b[1G92.3 MiB [] 56% 0.2s\u001b[0K\u001b[1G92.3 MiB [] 61% 0.2s\u001b[0K\u001b[1G92.3 MiB [] 66% 0.2s\u001b[0K\u001b[1G92.3 MiB [] 71% 0.1s\u001b[0K\u001b[1G92.3 MiB [] 76% 0.1s\u001b[0K\u001b[1G92.3 MiB [] 81% 0.1s\u001b[0K\u001b[1G92.3 MiB [] 86% 0.1s\u001b[0K\u001b[1G92.3 MiB [] 90% 0.0s\u001b[0K\u001b[1G92.3 MiB [] 95% 0.0s\u001b[0K\u001b[1G92.3 MiB [] 99% 0.0s\u001b[0K\u001b[1G92.3 MiB [] 100% 0.0s\u001b[0K\n",
            "Webkit 18.4 (playwright build v2140) downloaded to /root/.cache/ms-playwright/webkit-2140\n",
            "Downloading FFMPEG playwright build v1011\u001b[2m from https://cdn.playwright.dev/dbazure/download/playwright/builds/ffmpeg/1011/ffmpeg-linux.zip\u001b[22m\n",
            "\u001b[1G2.3 MiB [] 0% 0.0s\u001b[0K\u001b[1G2.3 MiB [] 2% 0.7s\u001b[0K\u001b[1G2.3 MiB [] 11% 0.3s\u001b[0K\u001b[1G2.3 MiB [] 26% 0.1s\u001b[0K\u001b[1G2.3 MiB [] 70% 0.0s\u001b[0K\u001b[1G2.3 MiB [] 100% 0.0s\u001b[0K\n",
            "FFMPEG playwright build v1011 downloaded to /root/.cache/ms-playwright/ffmpeg-1011\n",
            "Playwright Host validation warning: \n",
            "╔══════════════════════════════════════════════════════╗\n",
            "║ Host system is missing dependencies to run browsers. ║\n",
            "║ Missing libraries:                                   ║\n",
            "║     libwoff2dec.so.1.0.2                             ║\n",
            "║     libgstgl-1.0.so.0                                ║\n",
            "║     libgstcodecparsers-1.0.so.0                      ║\n",
            "║     libavif.so.13                                    ║\n",
            "║     libharfbuzz-icu.so.0                             ║\n",
            "║     libenchant-2.so.2                                ║\n",
            "║     libsecret-1.so.0                                 ║\n",
            "║     libhyphen.so.0                                   ║\n",
            "║     libmanette-0.2.so.0                              ║\n",
            "╚══════════════════════════════════════════════════════╝\n",
            "    at validateDependenciesLinux (/usr/local/lib/python3.11/dist-packages/playwright/driver/package/lib/server/registry/dependencies.js:216:9)\n",
            "\u001b[90m    at process.processTicksAndRejections (node:internal/process/task_queues:105:5)\u001b[39m\n",
            "    at async Registry._validateHostRequirements (/usr/local/lib/python3.11/dist-packages/playwright/driver/package/lib/server/registry/index.js:859:52)\n",
            "    at async Registry._validateHostRequirementsForExecutableIfNeeded (/usr/local/lib/python3.11/dist-packages/playwright/driver/package/lib/server/registry/index.js:957:7)\n",
            "    at async Registry.validateHostRequirementsForExecutablesIfNeeded (/usr/local/lib/python3.11/dist-packages/playwright/driver/package/lib/server/registry/index.js:946:43)\n",
            "    at async t.<anonymous> (/usr/local/lib/python3.11/dist-packages/playwright/driver/package/lib/cli/program.js:122:7)\n"
          ]
        }
      ],
      "source": [
        "# ✅ 필수 라이브러리 설치\n",
        "\n",
        "!pip install requests playwright\n",
        "!playwright install"
      ]
    },
    {
      "cell_type": "code",
      "source": [
        "import re\n",
        "import os\n",
        "import json\n",
        "import uuid\n",
        "import time\n",
        "import asyncio\n",
        "import requests\n",
        "from playwright.async_api import async_playwright\n",
        "\n",
        "# 네이버 디벨로퍼 애플리케이션 정보\n",
        "client_id = \"E1U56eaDwlyRGd0AZXyV\"\n",
        "client_secret = \"4L7L8ni9aF\"\n",
        "\n",
        "def get_article_list_from_naver_api(name, max_results=1000):\n",
        "    # API 요청 URL 및 헤더 설정 (카페/블로그에 따라 아래 url중 하나만 선택)\n",
        "    url = \"https://openapi.naver.com/v1/search/cafearticle.json\" #카페\n",
        "    # url = \"https://openapi.naver.com/v1/search/blog.json\" #블로그\n",
        "    headers = {\n",
        "        \"X-Naver-Client-Id\": client_id,\n",
        "        \"X-Naver-Client-Secret\": client_secret\n",
        "    }\n",
        "\n",
        "    # 축제명 쌍따옴표로 감싸서 검색 진행 -> 제목 또는 본문에 쌍따옴표로 감싸진 키워드가 들어간 게시물만 검색\n",
        "    query = f'\"{name}\"'\n",
        "    print(f\"🔍 {query}로 검색 시작\")\n",
        "\n",
        "    results = []\n",
        "    # 100개씩 최대 1000개 게시물 가져오기\n",
        "    for start in range(1, max_results + 1, 100):\n",
        "        params = {\n",
        "            \"query\": query,\n",
        "            \"display\": 100,\n",
        "            \"start\": start\n",
        "        }\n",
        "\n",
        "        print(f\"📦 {start}번부터 불러오는 중...\")\n",
        "\n",
        "        response = requests.get(url, headers=headers, params=params)\n",
        "        if response.status_code == 200:\n",
        "            data = response.json()\n",
        "            items = data.get(\"items\", [])\n",
        "            results.extend(items)\n",
        "\n",
        "            # 글이 더이상 없으면 불러오기 종료\n",
        "            if len(items) < 100:\n",
        "                print(\"더 이상 결과가 없습니다.\")\n",
        "                break\n",
        "            time.sleep(1)  # 너무 빠른 요청 방지\n",
        "\n",
        "    print(f\"\\n✅ 총 {len(results)}개 게시글 수집 완료!\")\n",
        "    return results\n"
      ],
      "metadata": {
        "id": "jeOuvj9L8gst"
      },
      "execution_count": null,
      "outputs": []
    },
    {
      "cell_type": "code",
      "source": [
        "async def get_article(num, url, name, page):\n",
        "    try:\n",
        "        await page.goto(url)\n",
        "        await page.wait_for_timeout(1000)\n",
        "\n",
        "        # iframe 접근 시도\n",
        "        frame = page.frame(name=\"cafe_main\")\n",
        "\n",
        "        # 제목\n",
        "        # 제목 요소가 일정 시간 안에 없으면 timeout 에러 발생 (가입이 필요한 카페 거르기용)\n",
        "        await frame.wait_for_selector('h3.title_text', timeout=2500)\n",
        "        title = await frame.locator('h3.title_text').inner_text()\n",
        "\n",
        "        # 작성자\n",
        "        writer = await frame.locator('button.nickname').first.inner_text()\n",
        "\n",
        "        # 작성일\n",
        "        date = await frame.locator('div.article_info span.date').inner_text()\n",
        "\n",
        "        # 조회수\n",
        "        view_raw = await frame.locator('div.article_info span.count').inner_text()\n",
        "        view_count = int(re.sub(r'[^0-9]', '', view_raw))\n",
        "\n",
        "        # 본문 텍스트\n",
        "        paragraphs = await frame.locator('div.se-module-text p').all()\n",
        "        content_texts = [await p.inner_text() for p in paragraphs]\n",
        "        content = \"\\n\".join(content_texts)\n",
        "\n",
        "        # 댓글\n",
        "        comments = []\n",
        "        comment_elements = await frame.locator('ul.comment_list > li').all()\n",
        "        for item in comment_elements:\n",
        "            try:\n",
        "                commenter = await item.locator('a.comment_nickname').inner_text()\n",
        "                comment_text = await item.locator('span.text_comment').inner_text()\n",
        "                comment_date = await item.locator('span.comment_info_date').inner_text()\n",
        "                comments.append({\n",
        "                    \"작성자\": commenter,\n",
        "                    \"내용\": comment_text,\n",
        "                    \"날짜\": comment_date\n",
        "                })\n",
        "            except:\n",
        "                continue\n",
        "\n",
        "        result = {\n",
        "            'reviewID': str(uuid.uuid4()),\n",
        "            'url': url,\n",
        "            '글 제목': title,\n",
        "            '글쓴이': writer,\n",
        "            '축제명': name,\n",
        "            '날짜': date,\n",
        "            '조회수': view_count,\n",
        "            '본문 글': content,\n",
        "            '댓글': comments\n",
        "        }\n",
        "\n",
        "        print(f\"✅ [{num + 1}] 크롤링 성공\")\n",
        "        print(result)\n",
        "        return result\n",
        "\n",
        "    except Exception as e:\n",
        "        print(f\"🚫 [{num + 1}] URL 접근 실패: {url}\\n에러: {e}\")\n",
        "        return None"
      ],
      "metadata": {
        "id": "WdaajnIp8qG-"
      },
      "execution_count": null,
      "outputs": []
    },
    {
      "cell_type": "code",
      "source": [
        "def filter_relevant_posts(posts, keyword):\n",
        "    # 공백 무시하는 정규표현식 패턴 생성\n",
        "    pattern = r\"\".join([f\"{char}\\s*\" for char in keyword])\n",
        "    keyword_regex = re.compile(pattern, re.IGNORECASE)\n",
        "\n",
        "    filtered = []\n",
        "    for post in posts:\n",
        "        title = re.sub(r\"<.*?>\", \"\", post[\"title\"])\n",
        "        desc = re.sub(r\"<.*?>\", \"\", post[\"description\"])\n",
        "        combined = title + \" \" + desc\n",
        "        if re.search(keyword_regex, combined):\n",
        "            filtered.append(post)\n",
        "    print(f\"✅ 필터링 후 남은 글 수: {len(filtered)}\")\n",
        "    return filtered"
      ],
      "metadata": {
        "id": "razaDk5HDUjZ"
      },
      "execution_count": null,
      "outputs": []
    },
    {
      "cell_type": "code",
      "source": [
        "async def main():\n",
        "    # 크롤링할 축제명 입력\n",
        "    name = \"노원달빛산책\"\n",
        "\n",
        "    # 1. 게시글 리스트 받아오기\n",
        "    raw_posts = get_article_list_from_naver_api(name)\n",
        "\n",
        "    # 2.제목/요약에 정확히 축제명이 들어간 것만 필터링\n",
        "    posts = filter_relevant_posts(raw_posts, name)\n",
        "\n",
        "    # 3. 게시글 상세 내용 크롤링\n",
        "    crawled_results = []\n",
        "    async with async_playwright() as p:\n",
        "        # 브라우저 설정\n",
        "        browser = await p.chromium.launch(headless=True)\n",
        "        context = await browser.new_context()\n",
        "        page = await context.new_page()\n",
        "\n",
        "        # 크롤링 시작\n",
        "        print(\"\\n🔍 게시글 상세 내용 크롤링 시작...\\n\")\n",
        "        for i, post in enumerate(posts):\n",
        "            result = await get_article(i, post['link'], name, page)\n",
        "            if result:\n",
        "                crawled_results.append(result)\n",
        "\n",
        "        await browser.close()\n",
        "\n",
        "    # 3. JSON 파일로 저장 (축제명 기반 파일명)\n",
        "    safe_name = name.replace(\" \", \"_\")  # 공백을 밑줄로 바꾸기\n",
        "    json_filename = f\"results/{safe_name}.json\"\n",
        "    file_name = f\"{safe_name}_카페_크롤링결과.json\"\n",
        "    path = '/content/drive/MyDrive/JSON/CAFE/' + file_name\n",
        "\n",
        "\n",
        "    with open(path, 'w', encoding=\"utf-8\") as f:\n",
        "        json.dump(crawled_results, f, ensure_ascii=False, indent=2)\n",
        "    print(f\"\\n📁 크롤링 결과 drive에 저장 완료: {json_filename}\")\n",
        "\n",
        "# 실행\n",
        "await main()\n"
      ],
      "metadata": {
        "colab": {
          "base_uri": "https://localhost:8080/",
          "height": 599
        },
        "id": "VGOzx0t3vj4i",
        "outputId": "9bc2f7b8-785b-4941-db54-c4ae27d34c76"
      },
      "execution_count": null,
      "outputs": [
        {
          "output_type": "stream",
          "name": "stdout",
          "text": [
            "🔍 \"노원달빛산책\"로 검색 시작\n",
            "📦 1번부터 불러오는 중...\n",
            "📦 101번부터 불러오는 중...\n",
            "📦 201번부터 불러오는 중...\n",
            "📦 301번부터 불러오는 중...\n",
            "더 이상 결과가 없습니다.\n",
            "\n",
            "✅ 총 322개 게시글 수집 완료!\n",
            "✅ 필터링 후 남은 글 수: 315\n",
            "\n",
            "🔍 게시글 상세 내용 크롤링 시작...\n",
            "\n",
            "✅ [1] 크롤링 성공\n",
            "{'reviewID': '4f3130e9-3a07-4a92-a8a4-8c201ac96c17', 'url': 'http://cafe.naver.com/marverlove/295320', '글 제목': '11.17 까지 공공미술 빛조각축제 <노원 달빛산책> 열리네요.', '글쓴이': '하늘이w', '축제명': '노원달빛산책', '날짜': '2024.11.13. 19:44', '조회수': 14, '본문 글': '11.17 까지 공공미술 빛조각축제 <노원 달빛산책> 열리네요.\\n2020년 「노원 달빛 산책」이라는 타이틀로 새롭게 시작한 본 행사는 2024년〈숨〉이라는 주제로 서울시 노원구 당현천 일원에서 열린다고 하네요.\\n반복적으로 순환하는 달의 호흡에서 비롯된 〈숨〉은 한숨 돌리는 휴식을 상징하기도 하고, 숨을 불어 넣는 생명을 나타내기도 하기에 , 노원 달빛 산책을 통해 모두가 함께 숨 쉴 수 있는 축제라고 하네요.\\n한지 등, 조각, 레이저 등 다체로운 작품으로 당현천 산책길을 빛낼 예정이라고 하니 근처에 계신분들은 산책삼아 들려보셔도 좋을것 같네요.\\n관심있는 분들에게 좋은정보이길 바래요. \\n\\u200b', '댓글': []}\n"
          ]
        },
        {
          "output_type": "error",
          "ename": "CancelledError",
          "evalue": "",
          "traceback": [
            "\u001b[0;31m---------------------------------------------------------------------------\u001b[0m",
            "\u001b[0;31mCancelledError\u001b[0m                            Traceback (most recent call last)",
            "\u001b[0;32m<ipython-input-7-0108e957bb17>\u001b[0m in \u001b[0;36m<cell line: 1>\u001b[0;34m()\u001b[0m\n\u001b[1;32m     38\u001b[0m \u001b[0;34m\u001b[0m\u001b[0m\n\u001b[1;32m     39\u001b[0m \u001b[0;31m# 실행\u001b[0m\u001b[0;34m\u001b[0m\u001b[0;34m\u001b[0m\u001b[0m\n\u001b[0;32m---> 40\u001b[0;31m \u001b[0;32mawait\u001b[0m \u001b[0mmain\u001b[0m\u001b[0;34m(\u001b[0m\u001b[0;34m)\u001b[0m\u001b[0;34m\u001b[0m\u001b[0;34m\u001b[0m\u001b[0m\n\u001b[0m",
            "\u001b[0;32m<ipython-input-7-0108e957bb17>\u001b[0m in \u001b[0;36mmain\u001b[0;34m()\u001b[0m\n\u001b[1;32m     20\u001b[0m         \u001b[0mprint\u001b[0m\u001b[0;34m(\u001b[0m\u001b[0;34m\"\\n🔍 게시글 상세 내용 크롤링 시작...\\n\"\u001b[0m\u001b[0;34m)\u001b[0m\u001b[0;34m\u001b[0m\u001b[0;34m\u001b[0m\u001b[0m\n\u001b[1;32m     21\u001b[0m         \u001b[0;32mfor\u001b[0m \u001b[0mi\u001b[0m\u001b[0;34m,\u001b[0m \u001b[0mpost\u001b[0m \u001b[0;32min\u001b[0m \u001b[0menumerate\u001b[0m\u001b[0;34m(\u001b[0m\u001b[0mposts\u001b[0m\u001b[0;34m)\u001b[0m\u001b[0;34m:\u001b[0m\u001b[0;34m\u001b[0m\u001b[0;34m\u001b[0m\u001b[0m\n\u001b[0;32m---> 22\u001b[0;31m             \u001b[0mresult\u001b[0m \u001b[0;34m=\u001b[0m \u001b[0;32mawait\u001b[0m \u001b[0mget_article\u001b[0m\u001b[0;34m(\u001b[0m\u001b[0mi\u001b[0m\u001b[0;34m,\u001b[0m \u001b[0mpost\u001b[0m\u001b[0;34m[\u001b[0m\u001b[0;34m'link'\u001b[0m\u001b[0;34m]\u001b[0m\u001b[0;34m,\u001b[0m \u001b[0mname\u001b[0m\u001b[0;34m,\u001b[0m \u001b[0mpage\u001b[0m\u001b[0;34m)\u001b[0m\u001b[0;34m\u001b[0m\u001b[0;34m\u001b[0m\u001b[0m\n\u001b[0m\u001b[1;32m     23\u001b[0m             \u001b[0;32mif\u001b[0m \u001b[0mresult\u001b[0m\u001b[0;34m:\u001b[0m\u001b[0;34m\u001b[0m\u001b[0;34m\u001b[0m\u001b[0m\n\u001b[1;32m     24\u001b[0m                 \u001b[0mcrawled_results\u001b[0m\u001b[0;34m.\u001b[0m\u001b[0mappend\u001b[0m\u001b[0;34m(\u001b[0m\u001b[0mresult\u001b[0m\u001b[0;34m)\u001b[0m\u001b[0;34m\u001b[0m\u001b[0;34m\u001b[0m\u001b[0m\n",
            "\u001b[0;32m<ipython-input-5-87c2c983e65e>\u001b[0m in \u001b[0;36mget_article\u001b[0;34m(num, url, name, page)\u001b[0m\n\u001b[1;32m     24\u001b[0m         \u001b[0;31m# 본문 텍스트\u001b[0m\u001b[0;34m\u001b[0m\u001b[0;34m\u001b[0m\u001b[0m\n\u001b[1;32m     25\u001b[0m         \u001b[0mparagraphs\u001b[0m \u001b[0;34m=\u001b[0m \u001b[0;32mawait\u001b[0m \u001b[0mframe\u001b[0m\u001b[0;34m.\u001b[0m\u001b[0mlocator\u001b[0m\u001b[0;34m(\u001b[0m\u001b[0;34m'div.se-module-text p'\u001b[0m\u001b[0;34m)\u001b[0m\u001b[0;34m.\u001b[0m\u001b[0mall\u001b[0m\u001b[0;34m(\u001b[0m\u001b[0;34m)\u001b[0m\u001b[0;34m\u001b[0m\u001b[0;34m\u001b[0m\u001b[0m\n\u001b[0;32m---> 26\u001b[0;31m         \u001b[0mcontent_texts\u001b[0m \u001b[0;34m=\u001b[0m \u001b[0;34m[\u001b[0m\u001b[0;32mawait\u001b[0m \u001b[0mp\u001b[0m\u001b[0;34m.\u001b[0m\u001b[0minner_text\u001b[0m\u001b[0;34m(\u001b[0m\u001b[0;34m)\u001b[0m \u001b[0;32mfor\u001b[0m \u001b[0mp\u001b[0m \u001b[0;32min\u001b[0m \u001b[0mparagraphs\u001b[0m\u001b[0;34m]\u001b[0m\u001b[0;34m\u001b[0m\u001b[0;34m\u001b[0m\u001b[0m\n\u001b[0m\u001b[1;32m     27\u001b[0m         \u001b[0mcontent\u001b[0m \u001b[0;34m=\u001b[0m \u001b[0;34m\"\\n\"\u001b[0m\u001b[0;34m.\u001b[0m\u001b[0mjoin\u001b[0m\u001b[0;34m(\u001b[0m\u001b[0mcontent_texts\u001b[0m\u001b[0;34m)\u001b[0m\u001b[0;34m\u001b[0m\u001b[0;34m\u001b[0m\u001b[0m\n\u001b[1;32m     28\u001b[0m \u001b[0;34m\u001b[0m\u001b[0m\n",
            "\u001b[0;32m<ipython-input-5-87c2c983e65e>\u001b[0m in \u001b[0;36m<listcomp>\u001b[0;34m(.0)\u001b[0m\n\u001b[1;32m     24\u001b[0m         \u001b[0;31m# 본문 텍스트\u001b[0m\u001b[0;34m\u001b[0m\u001b[0;34m\u001b[0m\u001b[0m\n\u001b[1;32m     25\u001b[0m         \u001b[0mparagraphs\u001b[0m \u001b[0;34m=\u001b[0m \u001b[0;32mawait\u001b[0m \u001b[0mframe\u001b[0m\u001b[0;34m.\u001b[0m\u001b[0mlocator\u001b[0m\u001b[0;34m(\u001b[0m\u001b[0;34m'div.se-module-text p'\u001b[0m\u001b[0;34m)\u001b[0m\u001b[0;34m.\u001b[0m\u001b[0mall\u001b[0m\u001b[0;34m(\u001b[0m\u001b[0;34m)\u001b[0m\u001b[0;34m\u001b[0m\u001b[0;34m\u001b[0m\u001b[0m\n\u001b[0;32m---> 26\u001b[0;31m         \u001b[0mcontent_texts\u001b[0m \u001b[0;34m=\u001b[0m \u001b[0;34m[\u001b[0m\u001b[0;32mawait\u001b[0m \u001b[0mp\u001b[0m\u001b[0;34m.\u001b[0m\u001b[0minner_text\u001b[0m\u001b[0;34m(\u001b[0m\u001b[0;34m)\u001b[0m \u001b[0;32mfor\u001b[0m \u001b[0mp\u001b[0m \u001b[0;32min\u001b[0m \u001b[0mparagraphs\u001b[0m\u001b[0;34m]\u001b[0m\u001b[0;34m\u001b[0m\u001b[0;34m\u001b[0m\u001b[0m\n\u001b[0m\u001b[1;32m     27\u001b[0m         \u001b[0mcontent\u001b[0m \u001b[0;34m=\u001b[0m \u001b[0;34m\"\\n\"\u001b[0m\u001b[0;34m.\u001b[0m\u001b[0mjoin\u001b[0m\u001b[0;34m(\u001b[0m\u001b[0mcontent_texts\u001b[0m\u001b[0;34m)\u001b[0m\u001b[0;34m\u001b[0m\u001b[0;34m\u001b[0m\u001b[0m\n\u001b[1;32m     28\u001b[0m \u001b[0;34m\u001b[0m\u001b[0m\n",
            "\u001b[0;32m/usr/local/lib/python3.11/dist-packages/playwright/async_api/_generated.py\u001b[0m in \u001b[0;36minner_text\u001b[0;34m(self, timeout)\u001b[0m\n\u001b[1;32m  16840\u001b[0m         \"\"\"\n\u001b[1;32m  16841\u001b[0m \u001b[0;34m\u001b[0m\u001b[0m\n\u001b[0;32m> 16842\u001b[0;31m         \u001b[0;32mreturn\u001b[0m \u001b[0mmapping\u001b[0m\u001b[0;34m.\u001b[0m\u001b[0mfrom_maybe_impl\u001b[0m\u001b[0;34m(\u001b[0m\u001b[0;32mawait\u001b[0m \u001b[0mself\u001b[0m\u001b[0;34m.\u001b[0m\u001b[0m_impl_obj\u001b[0m\u001b[0;34m.\u001b[0m\u001b[0minner_text\u001b[0m\u001b[0;34m(\u001b[0m\u001b[0mtimeout\u001b[0m\u001b[0;34m=\u001b[0m\u001b[0mtimeout\u001b[0m\u001b[0;34m)\u001b[0m\u001b[0;34m)\u001b[0m\u001b[0;34m\u001b[0m\u001b[0;34m\u001b[0m\u001b[0m\n\u001b[0m\u001b[1;32m  16843\u001b[0m \u001b[0;34m\u001b[0m\u001b[0m\n\u001b[1;32m  16844\u001b[0m     \u001b[0;32masync\u001b[0m \u001b[0;32mdef\u001b[0m \u001b[0minput_value\u001b[0m\u001b[0;34m(\u001b[0m\u001b[0mself\u001b[0m\u001b[0;34m,\u001b[0m \u001b[0;34m*\u001b[0m\u001b[0;34m,\u001b[0m \u001b[0mtimeout\u001b[0m\u001b[0;34m:\u001b[0m \u001b[0mtyping\u001b[0m\u001b[0;34m.\u001b[0m\u001b[0mOptional\u001b[0m\u001b[0;34m[\u001b[0m\u001b[0mfloat\u001b[0m\u001b[0;34m]\u001b[0m \u001b[0;34m=\u001b[0m \u001b[0;32mNone\u001b[0m\u001b[0;34m)\u001b[0m \u001b[0;34m->\u001b[0m \u001b[0mstr\u001b[0m\u001b[0;34m:\u001b[0m\u001b[0;34m\u001b[0m\u001b[0;34m\u001b[0m\u001b[0m\n",
            "\u001b[0;32m/usr/local/lib/python3.11/dist-packages/playwright/_impl/_locator.py\u001b[0m in \u001b[0;36minner_text\u001b[0;34m(self, timeout)\u001b[0m\n\u001b[1;32m    448\u001b[0m     \u001b[0;32masync\u001b[0m \u001b[0;32mdef\u001b[0m \u001b[0minner_text\u001b[0m\u001b[0;34m(\u001b[0m\u001b[0mself\u001b[0m\u001b[0;34m,\u001b[0m \u001b[0mtimeout\u001b[0m\u001b[0;34m:\u001b[0m \u001b[0mfloat\u001b[0m \u001b[0;34m=\u001b[0m \u001b[0;32mNone\u001b[0m\u001b[0;34m)\u001b[0m \u001b[0;34m->\u001b[0m \u001b[0mstr\u001b[0m\u001b[0;34m:\u001b[0m\u001b[0;34m\u001b[0m\u001b[0;34m\u001b[0m\u001b[0m\n\u001b[1;32m    449\u001b[0m         \u001b[0mparams\u001b[0m \u001b[0;34m=\u001b[0m \u001b[0mlocals_to_params\u001b[0m\u001b[0;34m(\u001b[0m\u001b[0mlocals\u001b[0m\u001b[0;34m(\u001b[0m\u001b[0;34m)\u001b[0m\u001b[0;34m)\u001b[0m\u001b[0;34m\u001b[0m\u001b[0;34m\u001b[0m\u001b[0m\n\u001b[0;32m--> 450\u001b[0;31m         return await self._frame.inner_text(\n\u001b[0m\u001b[1;32m    451\u001b[0m             \u001b[0mself\u001b[0m\u001b[0;34m.\u001b[0m\u001b[0m_selector\u001b[0m\u001b[0;34m,\u001b[0m\u001b[0;34m\u001b[0m\u001b[0;34m\u001b[0m\u001b[0m\n\u001b[1;32m    452\u001b[0m             \u001b[0mstrict\u001b[0m\u001b[0;34m=\u001b[0m\u001b[0;32mTrue\u001b[0m\u001b[0;34m,\u001b[0m\u001b[0;34m\u001b[0m\u001b[0;34m\u001b[0m\u001b[0m\n",
            "\u001b[0;32m/usr/local/lib/python3.11/dist-packages/playwright/_impl/_frame.py\u001b[0m in \u001b[0;36minner_text\u001b[0;34m(self, selector, strict, timeout)\u001b[0m\n\u001b[1;32m    616\u001b[0m         \u001b[0mself\u001b[0m\u001b[0;34m,\u001b[0m \u001b[0mselector\u001b[0m\u001b[0;34m:\u001b[0m \u001b[0mstr\u001b[0m\u001b[0;34m,\u001b[0m \u001b[0mstrict\u001b[0m\u001b[0;34m:\u001b[0m \u001b[0mbool\u001b[0m \u001b[0;34m=\u001b[0m \u001b[0;32mNone\u001b[0m\u001b[0;34m,\u001b[0m \u001b[0mtimeout\u001b[0m\u001b[0;34m:\u001b[0m \u001b[0mfloat\u001b[0m \u001b[0;34m=\u001b[0m \u001b[0;32mNone\u001b[0m\u001b[0;34m\u001b[0m\u001b[0;34m\u001b[0m\u001b[0m\n\u001b[1;32m    617\u001b[0m     ) -> str:\n\u001b[0;32m--> 618\u001b[0;31m         \u001b[0;32mreturn\u001b[0m \u001b[0;32mawait\u001b[0m \u001b[0mself\u001b[0m\u001b[0;34m.\u001b[0m\u001b[0m_channel\u001b[0m\u001b[0;34m.\u001b[0m\u001b[0msend\u001b[0m\u001b[0;34m(\u001b[0m\u001b[0;34m\"innerText\"\u001b[0m\u001b[0;34m,\u001b[0m \u001b[0mlocals_to_params\u001b[0m\u001b[0;34m(\u001b[0m\u001b[0mlocals\u001b[0m\u001b[0;34m(\u001b[0m\u001b[0;34m)\u001b[0m\u001b[0;34m)\u001b[0m\u001b[0;34m)\u001b[0m\u001b[0;34m\u001b[0m\u001b[0;34m\u001b[0m\u001b[0m\n\u001b[0m\u001b[1;32m    619\u001b[0m \u001b[0;34m\u001b[0m\u001b[0m\n\u001b[1;32m    620\u001b[0m     async def inner_html(\n",
            "\u001b[0;32m/usr/local/lib/python3.11/dist-packages/playwright/_impl/_connection.py\u001b[0m in \u001b[0;36msend\u001b[0;34m(self, method, params)\u001b[0m\n\u001b[1;32m     59\u001b[0m \u001b[0;34m\u001b[0m\u001b[0m\n\u001b[1;32m     60\u001b[0m     \u001b[0;32masync\u001b[0m \u001b[0;32mdef\u001b[0m \u001b[0msend\u001b[0m\u001b[0;34m(\u001b[0m\u001b[0mself\u001b[0m\u001b[0;34m,\u001b[0m \u001b[0mmethod\u001b[0m\u001b[0;34m:\u001b[0m \u001b[0mstr\u001b[0m\u001b[0;34m,\u001b[0m \u001b[0mparams\u001b[0m\u001b[0;34m:\u001b[0m \u001b[0mDict\u001b[0m \u001b[0;34m=\u001b[0m \u001b[0;32mNone\u001b[0m\u001b[0;34m)\u001b[0m \u001b[0;34m->\u001b[0m \u001b[0mAny\u001b[0m\u001b[0;34m:\u001b[0m\u001b[0;34m\u001b[0m\u001b[0;34m\u001b[0m\u001b[0m\n\u001b[0;32m---> 61\u001b[0;31m         return await self._connection.wrap_api_call(\n\u001b[0m\u001b[1;32m     62\u001b[0m             \u001b[0;32mlambda\u001b[0m\u001b[0;34m:\u001b[0m \u001b[0mself\u001b[0m\u001b[0;34m.\u001b[0m\u001b[0m_inner_send\u001b[0m\u001b[0;34m(\u001b[0m\u001b[0mmethod\u001b[0m\u001b[0;34m,\u001b[0m \u001b[0mparams\u001b[0m\u001b[0;34m,\u001b[0m \u001b[0;32mFalse\u001b[0m\u001b[0;34m)\u001b[0m\u001b[0;34m,\u001b[0m\u001b[0;34m\u001b[0m\u001b[0;34m\u001b[0m\u001b[0m\n\u001b[1;32m     63\u001b[0m             \u001b[0mself\u001b[0m\u001b[0;34m.\u001b[0m\u001b[0m_is_internal_type\u001b[0m\u001b[0;34m,\u001b[0m\u001b[0;34m\u001b[0m\u001b[0;34m\u001b[0m\u001b[0m\n",
            "\u001b[0;32m/usr/local/lib/python3.11/dist-packages/playwright/_impl/_connection.py\u001b[0m in \u001b[0;36mwrap_api_call\u001b[0;34m(self, cb, is_internal)\u001b[0m\n\u001b[1;32m    524\u001b[0m         \u001b[0mself\u001b[0m\u001b[0;34m.\u001b[0m\u001b[0m_api_zone\u001b[0m\u001b[0;34m.\u001b[0m\u001b[0mset\u001b[0m\u001b[0;34m(\u001b[0m\u001b[0mparsed_st\u001b[0m\u001b[0;34m)\u001b[0m\u001b[0;34m\u001b[0m\u001b[0;34m\u001b[0m\u001b[0m\n\u001b[1;32m    525\u001b[0m         \u001b[0;32mtry\u001b[0m\u001b[0;34m:\u001b[0m\u001b[0;34m\u001b[0m\u001b[0;34m\u001b[0m\u001b[0m\n\u001b[0;32m--> 526\u001b[0;31m             \u001b[0;32mreturn\u001b[0m \u001b[0;32mawait\u001b[0m \u001b[0mcb\u001b[0m\u001b[0;34m(\u001b[0m\u001b[0;34m)\u001b[0m\u001b[0;34m\u001b[0m\u001b[0;34m\u001b[0m\u001b[0m\n\u001b[0m\u001b[1;32m    527\u001b[0m         \u001b[0;32mexcept\u001b[0m \u001b[0mException\u001b[0m \u001b[0;32mas\u001b[0m \u001b[0merror\u001b[0m\u001b[0;34m:\u001b[0m\u001b[0;34m\u001b[0m\u001b[0;34m\u001b[0m\u001b[0m\n\u001b[1;32m    528\u001b[0m             \u001b[0;32mraise\u001b[0m \u001b[0mrewrite_error\u001b[0m\u001b[0;34m(\u001b[0m\u001b[0merror\u001b[0m\u001b[0;34m,\u001b[0m \u001b[0;34mf\"{parsed_st['apiName']}: {error}\"\u001b[0m\u001b[0;34m)\u001b[0m \u001b[0;32mfrom\u001b[0m \u001b[0;32mNone\u001b[0m\u001b[0;34m\u001b[0m\u001b[0;34m\u001b[0m\u001b[0m\n",
            "\u001b[0;32m/usr/local/lib/python3.11/dist-packages/playwright/_impl/_connection.py\u001b[0m in \u001b[0;36m_inner_send\u001b[0;34m(self, method, params, return_as_dict)\u001b[0m\n\u001b[1;32m     90\u001b[0m             \u001b[0mself\u001b[0m\u001b[0;34m.\u001b[0m\u001b[0m_object\u001b[0m\u001b[0;34m,\u001b[0m \u001b[0mmethod\u001b[0m\u001b[0;34m,\u001b[0m \u001b[0m_filter_none\u001b[0m\u001b[0;34m(\u001b[0m\u001b[0mparams\u001b[0m\u001b[0;34m)\u001b[0m\u001b[0;34m\u001b[0m\u001b[0;34m\u001b[0m\u001b[0m\n\u001b[1;32m     91\u001b[0m         )\n\u001b[0;32m---> 92\u001b[0;31m         done, _ = await asyncio.wait(\n\u001b[0m\u001b[1;32m     93\u001b[0m             {\n\u001b[1;32m     94\u001b[0m                 \u001b[0mself\u001b[0m\u001b[0;34m.\u001b[0m\u001b[0m_connection\u001b[0m\u001b[0;34m.\u001b[0m\u001b[0m_transport\u001b[0m\u001b[0;34m.\u001b[0m\u001b[0mon_error_future\u001b[0m\u001b[0;34m,\u001b[0m\u001b[0;34m\u001b[0m\u001b[0;34m\u001b[0m\u001b[0m\n",
            "\u001b[0;32m/usr/lib/python3.11/asyncio/tasks.py\u001b[0m in \u001b[0;36mwait\u001b[0;34m(fs, timeout, return_when)\u001b[0m\n\u001b[1;32m    426\u001b[0m \u001b[0;34m\u001b[0m\u001b[0m\n\u001b[1;32m    427\u001b[0m     \u001b[0mloop\u001b[0m \u001b[0;34m=\u001b[0m \u001b[0mevents\u001b[0m\u001b[0;34m.\u001b[0m\u001b[0mget_running_loop\u001b[0m\u001b[0;34m(\u001b[0m\u001b[0;34m)\u001b[0m\u001b[0;34m\u001b[0m\u001b[0;34m\u001b[0m\u001b[0m\n\u001b[0;32m--> 428\u001b[0;31m     \u001b[0;32mreturn\u001b[0m \u001b[0;32mawait\u001b[0m \u001b[0m_wait\u001b[0m\u001b[0;34m(\u001b[0m\u001b[0mfs\u001b[0m\u001b[0;34m,\u001b[0m \u001b[0mtimeout\u001b[0m\u001b[0;34m,\u001b[0m \u001b[0mreturn_when\u001b[0m\u001b[0;34m,\u001b[0m \u001b[0mloop\u001b[0m\u001b[0;34m)\u001b[0m\u001b[0;34m\u001b[0m\u001b[0;34m\u001b[0m\u001b[0m\n\u001b[0m\u001b[1;32m    429\u001b[0m \u001b[0;34m\u001b[0m\u001b[0m\n\u001b[1;32m    430\u001b[0m \u001b[0;34m\u001b[0m\u001b[0m\n",
            "\u001b[0;32m/usr/lib/python3.11/asyncio/tasks.py\u001b[0m in \u001b[0;36m_wait\u001b[0;34m(fs, timeout, return_when, loop)\u001b[0m\n\u001b[1;32m    533\u001b[0m \u001b[0;34m\u001b[0m\u001b[0m\n\u001b[1;32m    534\u001b[0m     \u001b[0;32mtry\u001b[0m\u001b[0;34m:\u001b[0m\u001b[0;34m\u001b[0m\u001b[0;34m\u001b[0m\u001b[0m\n\u001b[0;32m--> 535\u001b[0;31m         \u001b[0;32mawait\u001b[0m \u001b[0mwaiter\u001b[0m\u001b[0;34m\u001b[0m\u001b[0;34m\u001b[0m\u001b[0m\n\u001b[0m\u001b[1;32m    536\u001b[0m     \u001b[0;32mfinally\u001b[0m\u001b[0;34m:\u001b[0m\u001b[0;34m\u001b[0m\u001b[0;34m\u001b[0m\u001b[0m\n\u001b[1;32m    537\u001b[0m         \u001b[0;32mif\u001b[0m \u001b[0mtimeout_handle\u001b[0m \u001b[0;32mis\u001b[0m \u001b[0;32mnot\u001b[0m \u001b[0;32mNone\u001b[0m\u001b[0;34m:\u001b[0m\u001b[0;34m\u001b[0m\u001b[0;34m\u001b[0m\u001b[0m\n",
            "\u001b[0;31mCancelledError\u001b[0m: "
          ]
        }
      ]
    },
    {
      "cell_type": "code",
      "source": [],
      "metadata": {
        "id": "xzS4jPYZx7pm"
      },
      "execution_count": null,
      "outputs": []
    }
  ]
}