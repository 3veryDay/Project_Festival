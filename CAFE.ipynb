{
  "nbformat": 4,
  "nbformat_minor": 0,
  "metadata": {
    "colab": {
      "provenance": [],
      "machine_shape": "hm",
      "gpuType": "A100",
      "authorship_tag": "ABX9TyOjbrwf3MwvoCbdugjoQfL8",
      "include_colab_link": true
    },
    "kernelspec": {
      "name": "python3",
      "display_name": "Python 3"
    },
    "language_info": {
      "name": "python"
    },
    "accelerator": "GPU"
  },
  "cells": [
    {
      "cell_type": "markdown",
      "metadata": {
        "id": "view-in-github",
        "colab_type": "text"
      },
      "source": [
        "<a href=\"https://colab.research.google.com/github/3veryDay/Project_Festival/blob/main/CAFE.ipynb\" target=\"_parent\"><img src=\"https://colab.research.google.com/assets/colab-badge.svg\" alt=\"Open In Colab\"/></a>"
      ]
    },
    {
      "cell_type": "code",
      "source": [
        "from google.colab import drive\n",
        "drive.mount('/content/drive')"
      ],
      "metadata": {
        "id": "oRH_a3_JzsXL"
      },
      "execution_count": null,
      "outputs": []
    },
    {
      "cell_type": "code",
      "execution_count": null,
      "metadata": {
        "id": "P_Xse-Y_sUtP",
        "collapsed": true
      },
      "outputs": [],
      "source": [
        "# ✅ 필수 라이브러리 설치\n",
        "\n",
        "!pip install requests playwright\n",
        "!playwright install"
      ]
    },
    {
      "cell_type": "code",
      "source": [
        "import re\n",
        "import os\n",
        "import json\n",
        "import uuid\n",
        "import time\n",
        "import asyncio\n",
        "import requests\n",
        "from playwright.async_api import async_playwright\n",
        "\n",
        "# 네이버 디벨로퍼 애플리케이션 정보\n",
        "client_id = \"E1U56eaDwlyRGd0AZXyV\"\n",
        "client_secret = \"4L7L8ni9aF\"\n",
        "\n",
        "def get_article_list_from_naver_api(name, max_results=1000):\n",
        "    # API 요청 URL 및 헤더 설정 (카페/블로그에 따라 아래 url중 하나만 선택)\n",
        "    url = \"https://openapi.naver.com/v1/search/cafearticle.json\" #카페\n",
        "    # url = \"https://openapi.naver.com/v1/search/blog.json\" #블로그\n",
        "    headers = {\n",
        "        \"X-Naver-Client-Id\": client_id,\n",
        "        \"X-Naver-Client-Secret\": client_secret\n",
        "    }\n",
        "\n",
        "    # 축제명 쌍따옴표로 감싸서 검색 진행 -> 제목 또는 본문에 쌍따옴표로 감싸진 키워드가 들어간 게시물만 검색\n",
        "    query = f'\"{name}\"'\n",
        "    print(f\"🔍 {query}로 검색 시작\")\n",
        "\n",
        "    results = []\n",
        "    # 100개씩 최대 1000개 게시물 가져오기\n",
        "    for start in range(1, max_results + 1, 100):\n",
        "        params = {\n",
        "            \"query\": query,\n",
        "            \"display\": 100,\n",
        "            \"start\": start\n",
        "        }\n",
        "\n",
        "        print(f\"📦 {start}번부터 불러오는 중...\")\n",
        "\n",
        "        response = requests.get(url, headers=headers, params=params)\n",
        "        if response.status_code == 200:\n",
        "            data = response.json()\n",
        "            items = data.get(\"items\", [])\n",
        "            results.extend(items)\n",
        "\n",
        "            # 글이 더이상 없으면 불러오기 종료\n",
        "            if len(items) < 100:\n",
        "                print(\"더 이상 결과가 없습니다.\")\n",
        "                break\n",
        "            time.sleep(1)  # 너무 빠른 요청 방지\n",
        "\n",
        "    print(f\"\\n✅ 총 {len(results)}개 게시글 수집 완료!\")\n",
        "    return results\n"
      ],
      "metadata": {
        "id": "jeOuvj9L8gst"
      },
      "execution_count": null,
      "outputs": []
    },
    {
      "cell_type": "code",
      "source": [
        "async def get_article(num, url, name, page):\n",
        "    try:\n",
        "        await page.goto(url)\n",
        "        await page.wait_for_timeout(1000)\n",
        "\n",
        "        # iframe 접근 시도\n",
        "        frame = page.frame(name=\"cafe_main\")\n",
        "\n",
        "        # 제목\n",
        "        # 제목 요소가 일정 시간 안에 없으면 timeout 에러 발생 (가입이 필요한 카페 거르기용)\n",
        "        await frame.wait_for_selector('h3.title_text', timeout=2500)\n",
        "        title = await frame.locator('h3.title_text').inner_text()\n",
        "\n",
        "        # 작성자\n",
        "        writer = await frame.locator('button.nickname').first.inner_text()\n",
        "\n",
        "        # 작성일\n",
        "        date = await frame.locator('div.article_info span.date').inner_text()\n",
        "\n",
        "        # 조회수\n",
        "        view_raw = await frame.locator('div.article_info span.count').inner_text()\n",
        "        view_count = int(re.sub(r'[^0-9]', '', view_raw))\n",
        "\n",
        "        # 본문 텍스트\n",
        "        paragraphs = await frame.locator('div.se-module-text p').all()\n",
        "        content_texts = [await p.inner_text() for p in paragraphs]\n",
        "        content = \"\\n\".join(content_texts)\n",
        "\n",
        "        # 댓글\n",
        "        comments = []\n",
        "        comment_elements = await frame.locator('ul.comment_list > li').all()\n",
        "        for item in comment_elements:\n",
        "            try:\n",
        "                commenter = await item.locator('a.comment_nickname').inner_text()\n",
        "                comment_text = await item.locator('span.text_comment').inner_text()\n",
        "                comment_date = await item.locator('span.comment_info_date').inner_text()\n",
        "                comments.append({\n",
        "                    \"작성자\": commenter,\n",
        "                    \"내용\": comment_text,\n",
        "                    \"날짜\": comment_date\n",
        "                })\n",
        "            except:\n",
        "                continue\n",
        "\n",
        "        result = {\n",
        "            'reviewID': str(uuid.uuid4()),\n",
        "            'url': url,\n",
        "            '글 제목': title,\n",
        "            '글쓴이': writer,\n",
        "            '축제명': name,\n",
        "            '날짜': date,\n",
        "            '조회수': view_count,\n",
        "            '본문 글': content,\n",
        "            '댓글': comments\n",
        "        }\n",
        "\n",
        "        print(f\"✅ [{num + 1}] 크롤링 성공\")\n",
        "        print(result)\n",
        "        return result\n",
        "\n",
        "    except Exception as e:\n",
        "        print(f\"🚫 [{num + 1}] URL 접근 실패: {url}\\n에러: {e}\")\n",
        "        return None"
      ],
      "metadata": {
        "id": "WdaajnIp8qG-"
      },
      "execution_count": null,
      "outputs": []
    },
    {
      "cell_type": "code",
      "source": [
        "def filter_relevant_posts(posts, keyword):\n",
        "    # 공백 무시하는 정규표현식 패턴 생성\n",
        "    pattern = r\"\".join([f\"{char}\\s*\" for char in keyword])\n",
        "    keyword_regex = re.compile(pattern, re.IGNORECASE)\n",
        "\n",
        "    filtered = []\n",
        "    for post in posts:\n",
        "        title = re.sub(r\"<.*?>\", \"\", post[\"title\"])\n",
        "        desc = re.sub(r\"<.*?>\", \"\", post[\"description\"])\n",
        "        combined = title + \" \" + desc\n",
        "        if re.search(keyword_regex, combined):\n",
        "            filtered.append(post)\n",
        "    print(f\"✅ 필터링 후 남은 글 수: {len(filtered)}\")\n",
        "    return filtered"
      ],
      "metadata": {
        "id": "razaDk5HDUjZ"
      },
      "execution_count": null,
      "outputs": []
    },
    {
      "cell_type": "code",
      "source": [
        "async def main():\n",
        "    # 크롤링할 축제명 입력\n",
        "    name = \"노원달빛산책\"\n",
        "\n",
        "    # 1. 게시글 리스트 받아오기\n",
        "    raw_posts = get_article_list_from_naver_api(name)\n",
        "\n",
        "    # 2.제목/요약에 정확히 축제명이 들어간 것만 필터링\n",
        "    posts = filter_relevant_posts(raw_posts, name)\n",
        "\n",
        "    # 3. 게시글 상세 내용 크롤링\n",
        "    crawled_results = []\n",
        "    async with async_playwright() as p:\n",
        "        # 브라우저 설정\n",
        "        browser = await p.chromium.launch(headless=True)\n",
        "        context = await browser.new_context()\n",
        "        page = await context.new_page()\n",
        "\n",
        "        # 크롤링 시작\n",
        "        print(\"\\n🔍 게시글 상세 내용 크롤링 시작...\\n\")\n",
        "        for i, post in enumerate(posts):\n",
        "            result = await get_article(i, post['link'], name, page)\n",
        "            if result:\n",
        "                crawled_results.append(result)\n",
        "\n",
        "        await browser.close()\n",
        "\n",
        "    # 3. JSON 파일로 저장 (축제명 기반 파일명)\n",
        "    safe_name = name.replace(\" \", \"_\")  # 공백을 밑줄로 바꾸기\n",
        "    json_filename = f\"results/{safe_name}.json\"\n",
        "    file_name = f\"{safe_name}_카페_크롤링결과.json\"\n",
        "    path = '/content/drive/MyDrive/JSON/CAFE/' + file_name\n",
        "\n",
        "\n",
        "    with open(path, 'w', encoding=\"utf-8\") as f:\n",
        "        json.dump(crawled_results, f, ensure_ascii=False, indent=2)\n",
        "    print(f\"\\n📁 크롤링 결과 drive에 저장 완료: {json_filename}\")\n",
        "\n",
        "# 실행\n",
        "await main()\n"
      ],
      "metadata": {
        "id": "VGOzx0t3vj4i"
      },
      "execution_count": null,
      "outputs": []
    },
    {
      "cell_type": "code",
      "source": [],
      "metadata": {
        "id": "xzS4jPYZx7pm"
      },
      "execution_count": null,
      "outputs": []
    }
  ]
}